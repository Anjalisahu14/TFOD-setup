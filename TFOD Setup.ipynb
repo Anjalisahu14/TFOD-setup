{
 "cells": [
  {
   "cell_type": "markdown",
   "metadata": {},
   "source": [
    "# Configuration steps for TensorFlow object detection-\n"
   ]
  },
  {
   "cell_type": "markdown",
   "metadata": {},
   "source": [
    "STEP-1 Download the following content-\n",
    "\n",
    "i. Download v1.13.0 model  (TFOD github repo).\n",
    "\n",
    "ii. Download the ssd_mobilenet_v1_coco model from the model zoo or any other model of your choice from TensorFlow 1 Detection Model Zoo.\n",
    "\n",
    "iii. Download Dataset & utils(https://drive.google.com/file/d/12F5oGAuQg7qBM_267TCMt_rlorV-M7gf/view).\n",
    "\n",
    "iv. Download labelImg tool for labeling images."
   ]
  },
  {
   "cell_type": "markdown",
   "metadata": {},
   "source": [
    "STEP-2 Extract all the above zip files into a tfod folder and remove the compressed files-"
   ]
  },
  {
   "cell_type": "markdown",
   "metadata": {},
   "source": [
    "STEP-3 Creating virtual env using conda-\n",
    " \n",
    "    conda create -n your_env_name python=3.7"
   ]
  },
  {
   "cell_type": "markdown",
   "metadata": {},
   "source": [
    "STEP-4 Install the following packages in your new environment-\n",
    "\n",
    "     for GPU\n",
    "         pip install pillow lxml Cython contextlib2 jupyter matplotlib pandas opencv-python tensorflow-gpu==1.15.0\n",
    "    for CPU only\n",
    "         pip install pillow lxml Cython contextlib2 jupyter matplotlib pandas opencv-python tensorflow==1.15.0"
   ]
  },
  {
   "cell_type": "markdown",
   "metadata": {},
   "source": [
    "STEP-5 Install protobuf using conda package manager-\n",
    "     \n",
    "    conda install -c anaconda protobuf"
   ]
  },
  {
   "cell_type": "markdown",
   "metadata": {},
   "source": [
    "STEP-6 For protobuff to .py conversion download from a tool from here-\n",
    "\n",
    "    Open command prompt and cd to research folder.\n",
    "\n",
    "     Now in the research folder run the following command-\n",
    "\n",
    "    For Linux or Mac\n",
    "\n",
    "    protoc object_detection/protos/*.proto --python_out=.\n",
    "    \n",
    "    For Windows\n",
    "\n",
    "     protoc object_detection/protos/*.proto --python_out=."
   ]
  },
  {
   "cell_type": "markdown",
   "metadata": {},
   "source": [
    "STEP-7 Paste all content present in utils into research folder-"
   ]
  },
  {
   "cell_type": "markdown",
   "metadata": {},
   "source": [
    "STEP-8 Paste ssd_mobilenet_v1_coco or any other model downloaded from model zoo into research folder-\n",
    "    Now cd to the research folder and run the following python file-\n",
    "       python xml_to_csv.py"
   ]
  },
  {
   "cell_type": "markdown",
   "metadata": {},
   "source": [
    "STEP-9 Run the following to generate train and test records-\n",
    "     \n",
    "    from the research folder-\n",
    "      \n",
    "        python generate_tfrecord.py --csv_input=images/test_labels.csv --image_dir=images/test --output_path=test.record"
   ]
  },
  {
   "cell_type": "markdown",
   "metadata": {},
   "source": [
    "STEP-10 Copy from research/object_detection/samples/config/ YOURMODEL.config file into research/training-\n",
    "\n",
    "   Note\n",
    "\n",
    "The following config file shown here is with respect to ssd_mobilenet_v1_coco. So if you have downloaded it for any other model apart from SSD you'll see config file with YOUR_MODEL_NAME as shown below-\n",
    "\n",
    "\n",
    "model {\n",
    "YOUR_MODEL_NAME {\n",
    "  num_classes: 6\n",
    "  box_coder {\n",
    "    faster_rcnn_box_coder {\n",
    "Hence always verify YOUR_MODEL_NAME before using the config file."
   ]
  },
  {
   "cell_type": "markdown",
   "metadata": {},
   "source": [
    "STEP-11 Update num_classes, fine_tune_checkpoint ,and num_steps plus update input_path and label_map_path for both train_input_reader and eval_input_reader-\n",
    "Info\n",
    "\n",
    "Changes to be made in the config file are highlighted in yellow color. You must update the value of those keys in the config file."
   ]
  },
  {
   "cell_type": "markdown",
   "metadata": {},
   "source": [
    "STEP-12 From research/object_detection/legacy/ copy train.py to research folder"
   ]
  },
  {
   "cell_type": "markdown",
   "metadata": {},
   "source": [
    "STEP-13 Copy deployment and nets folder from research/slim into the research folder-"
   ]
  },
  {
   "cell_type": "markdown",
   "metadata": {},
   "source": [
    "STEP-14 NOW Run the following command from the research folder. This will start the training in your local system-\n",
    "Note\n",
    "\n",
    "copy the command and replace YOUR_MODEL.config with your own model's name for example ssd_mobilenet_v1_coco.config and then run it in cmd prompt or terminal. And make sure you are in research folder.\n",
    "\n",
    "     python train.py --logtostderr --train_dir=training/ --pipeline_config_path=training/YOUR_MODEL.config"
   ]
  },
  {
   "cell_type": "markdown",
   "metadata": {},
   "source": [
    "## For Reference\n",
    "https://tensorflow-object-detection-api-tutorial.readthedocs.io/en/latest/index.html"
   ]
  },
  {
   "cell_type": "code",
   "execution_count": null,
   "metadata": {},
   "outputs": [],
   "source": []
  }
 ],
 "metadata": {
  "kernelspec": {
   "display_name": "Python 3",
   "language": "python",
   "name": "python3"
  },
  "language_info": {
   "codemirror_mode": {
    "name": "ipython",
    "version": 3
   },
   "file_extension": ".py",
   "mimetype": "text/x-python",
   "name": "python",
   "nbconvert_exporter": "python",
   "pygments_lexer": "ipython3",
   "version": "3.8.3"
  }
 },
 "nbformat": 4,
 "nbformat_minor": 4
}
